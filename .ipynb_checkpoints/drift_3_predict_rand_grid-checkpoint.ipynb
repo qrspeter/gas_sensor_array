{
 "cells": [
  {
   "cell_type": "markdown",
   "id": "881e6cf6-b4f7-462b-8bb9-9803819067c4",
   "metadata": {},
   "source": [
    "# Chemical gas sensor drift compensation\n",
    "\n",
    "## prediction\n",
    "\n",
    "Purpose: prediction of VOC.\n",
    "\n",
    "dataset source: https://archive.ics.uci.edu/dataset/270/gas+sensor+array+drift+dataset+at+different+concentrations\n"
   ]
  },
  {
   "cell_type": "code",
   "execution_count": 1,
   "id": "b515acd8-5a8b-4ab7-9e6b-908cfd7d4b04",
   "metadata": {},
   "outputs": [],
   "source": [
    "import numpy as np\n",
    "import pandas as pd\n",
    "\n",
    "import seaborn as sns\n",
    "\n",
    "from matplotlib import pyplot as plt # import matplotlib.pyplot as plt\n",
    "import matplotlib.patches as mpatches\n",
    "\n",
    "\n",
    "import os\n",
    "import re\n",
    "\n",
    "path = 'Dataset/'"
   ]
  },
  {
   "attachments": {},
   "cell_type": "markdown",
   "id": "d45059a9-822f-4385-acd4-0187eb8a1202",
   "metadata": {},
   "source": [
    "## Структура данных\n",
    "\n",
    "Каждый отклик описан 8 признаками:  \n",
    "* Δ𝑅, ‖Δ𝑅‖, 𝑒𝑚𝑎0.001𝐼, 𝑒𝑚𝑎0.01𝐼, 𝑒𝑚𝑎0.1𝐼, 𝑒𝑚𝑎0.001𝐷, 𝑒𝑚𝑎0.01𝐷, and 𝑒𝑚𝑎0.1𝐷. Регистрируется 16 сенсорами, итого каждый отклик описан 128 признаками.\n",
    "\n",
    "Используемые аналиты: \n",
    "* 1: Ethanol; 2: Ethylene; 3: Ammonia; 4: Acetaldehyde; 5: Acetone; 6: Toluene\n",
    "\n",
    "Строка состоит из индикатора аналита (1-6), концентрации, и 128 признаков:\n",
    "* 1;10.000000 1:15596.162100 2:1.868245 3:2.371604 ... 127:-0.902241 128:-2.654529 "
   ]
  },
  {
   "cell_type": "code",
   "execution_count": 2,
   "id": "46e01d68-fae2-4330-8699-1dffd8e12964",
   "metadata": {},
   "outputs": [],
   "source": [
    "# Предыдущий вариант импорта был хорош для рисования, хотя можно было изменить трехмерное обращение к данным на добавление индекса +2, чтобы не затрагивать первые колонки\n",
    "\n",
    "gas_data = []\n",
    "\n",
    "voc = {1: 'Ethanol', 2: 'Ethylene', 3: 'Ammonia', 4: 'Acetaldehyd', 5: 'Acetone', 6: 'Toluene'}\n",
    "\n",
    "with open(path + 'batch1.dat', 'r') as file_data:\n",
    "    for i, line in enumerate(file_data.readlines()):\n",
    "#        gas_type = int(line[0])\n",
    "#        rest = line[1:]\n",
    "        data = line.strip().split(' ') \n",
    "        gas_type, conc = data[0].strip().split(';')\n",
    "        gas_type = voc[int(gas_type)]\n",
    "#        print(data)\n",
    "        # split in pairs by spaces and then split pairs by colons    \n",
    "        x, y = zip(*[(int(i.strip().split(':')[0]), float(i.strip().split(':')[1])) for i in data[1:]])\n",
    "        gas_data.append([gas_type] + [conc] + list(y))\n",
    "#        gas_data.append((gas_type, float(conc), (x, y)))"
   ]
  },
  {
   "cell_type": "code",
   "execution_count": 3,
   "id": "860f5645-1ef4-4cb3-b8c9-21d9f0d55fc5",
   "metadata": {},
   "outputs": [
    {
     "name": "stdout",
     "output_type": "stream",
     "text": [
      "         VOC       conc         s0_R    s0_‖ΔR‖  s0_ema0.001l  s0_ema0.01l  \\\n",
      "0    Ethanol  10.000000   15596.1621   1.868245      2.371604     2.803678   \n",
      "1    Ethanol  20.000000   26402.0704   2.532401      5.411209     6.509906   \n",
      "2    Ethanol  30.000000   42103.5820   3.454189      8.198175    10.508439   \n",
      "3    Ethanol  40.000000   42825.9883   3.451192     12.113940    16.266853   \n",
      "4    Ethanol  50.000000   58151.1757   4.194839     11.455096    15.715298   \n",
      "..       ...        ...          ...        ...           ...          ...   \n",
      "440  Toluene  10.000000   74805.0518   6.707129     15.446750    19.415134   \n",
      "441  Toluene  15.000000   92035.5156   7.775487     21.173590    27.620422   \n",
      "442  Toluene  20.000000  107898.2334   8.994761     25.131079    33.771374   \n",
      "443  Toluene  25.000000  119795.0352   9.582606     28.944716    39.290350   \n",
      "444  Toluene  35.000000  140782.2978  10.975342     35.524802    59.584134   \n",
      "\n",
      "     s0_ema0.1l  s0_ema0.001D  s0_ema0.01D  s0_ema0.1D  ...  s14_ema0.01D  \\\n",
      "0      7.512213     -2.739388    -3.344671   -4.847512  ...     -1.071137   \n",
      "1      7.658469     -4.722217    -5.817651   -7.518333  ...     -1.530519   \n",
      "2     11.611003     -7.668313    -9.478675  -12.230939  ...     -2.384784   \n",
      "3     39.910056     -7.849409    -9.689894  -11.921704  ...     -2.607199   \n",
      "4     17.654915    -11.083364   -13.580692  -16.407848  ...     -3.594763   \n",
      "..          ...           ...          ...         ...  ...           ...   \n",
      "440   20.782742    -12.073277   -15.890503  -33.655074  ...     -0.727597   \n",
      "441   29.159638    -14.717438   -17.631495  -21.352693  ...     -1.015120   \n",
      "442   37.121172    -17.064423   -23.058288  -66.829676  ...     -1.279203   \n",
      "443   41.062943    -18.824844   -22.903238  -29.631211  ...     -1.556993   \n",
      "444   50.208230    -21.607891   -25.081263  -72.701125  ...     -2.269665   \n",
      "\n",
      "     s14_ema0.1D      s15_R  s15_‖ΔR‖  s15_ema0.001l  s15_ema0.01l  \\\n",
      "0      -3.037772  3037.0390  3.972203       0.527291      0.728443   \n",
      "1      -1.994993  4176.4453  4.281373       0.980205      1.628050   \n",
      "2      -2.867291  5914.6685  5.396827       1.403973      2.476956   \n",
      "3      -3.058086  6147.4744  5.501071       1.981933      3.569823   \n",
      "4      -4.181920  8158.6449  7.174334       1.993808      3.829303   \n",
      "..           ...        ...       ...            ...           ...   \n",
      "440    -1.928152  3208.7706  3.548801       0.692627      0.992265   \n",
      "441    -2.734727  4009.7310  4.051835       0.983568      1.454702   \n",
      "442    -1.539648  4834.6333  4.605179       1.218879      1.846645   \n",
      "443    -3.688803  5555.9392  5.015334       1.413263      2.199541   \n",
      "444    -6.156940  6816.6381  5.913717       1.787649      3.051548   \n",
      "\n",
      "     s15_ema0.1l  s15_ema0.001D  s15_ema0.01D  s15_ema0.1D  \n",
      "0       1.445783      -0.545079     -0.902241    -2.654529  \n",
      "1       1.951172      -0.889333     -1.323505    -1.749225  \n",
      "2       3.039841      -1.334558     -1.993659    -2.348370  \n",
      "3       4.049197      -1.432205     -2.146158    -2.488957  \n",
      "4       4.402448      -1.930107     -2.931265    -4.088756  \n",
      "..           ...            ...           ...          ...  \n",
      "440     1.274428      -0.481713     -0.705449    -2.153036  \n",
      "441     1.736482      -0.648578     -1.101465    -3.118286  \n",
      "442     2.245026      -0.831980     -1.299345    -3.860362  \n",
      "443     3.252978      -0.970762     -1.693868    -2.720472  \n",
      "444     3.255161      -1.281157     -2.332680    -3.735087  \n",
      "\n",
      "[445 rows x 130 columns]\n"
     ]
    }
   ],
   "source": [
    "features = ('R', '‖ΔR‖', 'ema0.001l', 'ema0.01l', 'ema0.1l', 'ema0.001D', 'ema0.01D', 'ema0.1D')\n",
    "sensors = [str(i) for i in range(16)]\n",
    "\n",
    "df_columns = ['VOC', 'conc']\n",
    "for i in sensors:\n",
    "    for j in features:\n",
    "        df_columns.append('s' + i + '_' + j)\n",
    "\n",
    "\n",
    "df = pd.DataFrame(gas_data, columns=df_columns)\n",
    "print(df)"
   ]
  },
  {
   "cell_type": "markdown",
   "id": "151ef927-ae9b-40b6-a9bd-a7aaefe16e0d",
   "metadata": {},
   "source": [
    "## Prediction"
   ]
  },
  {
   "cell_type": "markdown",
   "id": "699b4460-9e59-431d-a051-aa072f2a43a3",
   "metadata": {},
   "source": [
    "Сперва датафрейм где только основные признаки, в комплект к полному. А то если раньше можно было по прежнему индексу обращаться к датасету, то теперь-то он разделиться на две части и индексация потеряется.\n",
    "\n",
    "И  далее подставлять тот или иной набор данных."
   ]
  },
  {
   "cell_type": "code",
   "execution_count": 4,
   "id": "3bdb9ed5-e4f6-4161-99c7-f702ed2b7647",
   "metadata": {},
   "outputs": [
    {
     "name": "stdout",
     "output_type": "stream",
     "text": [
      "         VOC       conc         s0_R    s0_‖ΔR‖         s1_R   s1_‖ΔR‖  \\\n",
      "0    Ethanol  10.000000   15596.1621   1.868245   15326.6914  1.768526   \n",
      "1    Ethanol  20.000000   26402.0704   2.532401   23855.7812  2.164706   \n",
      "2    Ethanol  30.000000   42103.5820   3.454189   37562.3008  2.840403   \n",
      "3    Ethanol  40.000000   42825.9883   3.451192   38379.0664  2.851173   \n",
      "4    Ethanol  50.000000   58151.1757   4.194839   51975.5899  3.480866   \n",
      "..       ...        ...          ...        ...          ...       ...   \n",
      "440  Toluene  10.000000   74805.0518   6.707129   71893.4726  5.953645   \n",
      "441  Toluene  15.000000   92035.5156   7.775487   88619.7480  6.945339   \n",
      "442  Toluene  20.000000  107898.2334   8.994761  103904.5332  7.910543   \n",
      "443  Toluene  25.000000  119795.0352   9.582606  115551.0313  8.425875   \n",
      "444  Toluene  35.000000  140782.2978  10.975342  135883.9053  9.623297   \n",
      "\n",
      "          s2_R   s2_‖ΔR‖       s3_R   s3_‖ΔR‖  ...      s11_R  s11_‖ΔR‖  \\\n",
      "0    2789.3831  2.754759  2581.5686  2.680623  ...  2185.9741  2.949381   \n",
      "1    3882.9057  3.155054  3651.0427  3.130669  ...  3079.0621  3.399659   \n",
      "2    5476.3898  3.929721  5140.8302  3.880357  ...  4409.1721  4.286887   \n",
      "3    5670.7144  3.994661  5343.8337  3.962529  ...  4570.3443  4.382205   \n",
      "4    7483.3656  5.074172  6995.2396  4.995555  ...  6086.2545  5.642596   \n",
      "..         ...       ...        ...       ...  ...        ...       ...   \n",
      "440  2118.2668  2.519303  2025.2079  2.481680  ...  2284.0766  2.940247   \n",
      "441  2663.7260  2.852743  2542.1205  2.805227  ...  2877.9967  3.368015   \n",
      "442  3226.8331  3.208360  3048.2875  3.137299  ...  3496.4181  3.821600   \n",
      "443  3718.3960  3.478189  3484.0998  3.388620  ...  4046.1677  4.182635   \n",
      "444  4596.4652  4.050693  4275.2324  3.923290  ...  5048.8103  4.950079   \n",
      "\n",
      "         s12_R  s12_‖ΔR‖      s13_R  s13_‖ΔR‖      s14_R  s14_‖ΔR‖      s15_R  \\\n",
      "0     862.7479  1.779291  1059.7562  1.896047  3357.1124  3.860647  3037.0390   \n",
      "1    1237.0131  2.067927  1459.6356  2.149242  4685.7753  4.277604  4176.4453   \n",
      "2    1735.0383  2.466508  2040.1528  2.572696  6630.1836  5.369827  5914.6685   \n",
      "3    1837.0551  2.560248  2144.8436  2.660842  6933.2844  5.507270  6147.4744   \n",
      "4    2388.1891  3.067174  2784.4952  3.196657  9179.2338  7.214645  8158.6449   \n",
      "..         ...       ...        ...       ...        ...       ...        ...   \n",
      "440  1275.5186  2.136242  1350.4089  2.107198  2927.9056  3.271945  3208.7706   \n",
      "441  1512.5616  2.334939  1582.3418  2.285685  3697.7195  3.741965  4009.7310   \n",
      "442  1732.2083  2.528248  1816.4025  2.476603  4445.4027  4.237886  4834.6333   \n",
      "443  1903.4246  2.665950  1988.0282  2.602206  5114.9015  4.615901  5555.9392   \n",
      "444  2199.6449  2.939265  2294.2266  2.867220  6260.5856  5.407315  6816.6381   \n",
      "\n",
      "     s15_‖ΔR‖  \n",
      "0    3.972203  \n",
      "1    4.281373  \n",
      "2    5.396827  \n",
      "3    5.501071  \n",
      "4    7.174334  \n",
      "..        ...  \n",
      "440  3.548801  \n",
      "441  4.051835  \n",
      "442  4.605179  \n",
      "443  5.015334  \n",
      "444  5.913717  \n",
      "\n",
      "[445 rows x 34 columns]\n"
     ]
    }
   ],
   "source": [
    "#p = list(range(len(df_columns)))\n",
    "#main_comp = [v for i, v in enumerate(p) if ((i - 2) % 8 in {0, 1} or i in {0, 1})]\n",
    "\n",
    "main_comp = [v for i, v in enumerate(df_columns) if ((i - 2) % 8 in {0, 1} or i in {0, 1})]\n",
    "df2 = df.loc[:,main_comp]\n",
    "print(df2)"
   ]
  },
  {
   "cell_type": "markdown",
   "id": "16cafe69-563a-4e3d-b011-0db523463dfd",
   "metadata": {},
   "source": [
    "### Random search"
   ]
  },
  {
   "cell_type": "code",
   "execution_count": null,
   "id": "2a350e93-a928-4f86-bb25-c190022c4d62",
   "metadata": {},
   "outputs": [],
   "source": []
  },
  {
   "cell_type": "code",
   "execution_count": 7,
   "id": "a2145cc2-e7d0-4cfb-89f3-ad8e3f0677a0",
   "metadata": {},
   "outputs": [],
   "source": [
    "from sklearn.linear_model import LogisticRegression\n",
    "from sklearn.model_selection import train_test_split\n",
    "from sklearn.metrics import accuracy_score\n",
    "from sklearn import preprocessing\n",
    "\n",
    "from sklearn.metrics import classification_report\n",
    "\n",
    "\n",
    "# Grid Search\n",
    "\n",
    "from sklearn.pipeline import Pipeline\n",
    "from sklearn.model_selection import GridSearchCV\n",
    "\n",
    "from sklearn.model_selection import RandomizedSearchCV\n",
    "from sklearn.preprocessing import StandardScaler # \"pip install scikit-learn\", not \"pip install sklearn\"\n",
    "from sklearn.decomposition import PCA as sk_pca\n",
    "\n",
    "\n",
    "\n",
    "from sklearn.experimental import enable_halving_search_cv\n",
    "from sklearn.model_selection import HalvingRandomSearchCV\n",
    "from sklearn.datasets import make_classification\n",
    "from sklearn.ensemble import RandomForestClassifier\n",
    "\n",
    "\n",
    "pipeline = Pipeline(\n",
    "    [\n",
    "        (\"scaler\", StandardScaler()),\n",
    "        (\"clf\", LogisticRegression(max_iter=1000)), # increased from default (100) https://stackoverflow.com/questions/62658215/convergencewarning-lbfgs-failed-to-converge-status-1-stop-total-no-of-iter\n",
    "    ]\n",
    ")\n",
    "\n",
    "\n"
   ]
  },
  {
   "cell_type": "code",
   "execution_count": 11,
   "id": "ac1c2018-489c-491c-abac-12af4d7355bb",
   "metadata": {},
   "outputs": [],
   "source": [
    "# select columns with main features\n",
    "skpca = sk_pca(n_components=3)\n",
    "\n",
    "df_train, df_test = train_test_split(df, test_size=0.2) # или подставлять dfdf2  для другого набора\n",
    "\n",
    "sc = preprocessing.MinMaxScaler() \n",
    "\n",
    "X_train = skpca.fit_transform(sc.fit_transform(df_train.values[:, 2:]))\n",
    "#X_test = sc.transform(df_test.values[:, 2:])\n",
    "Y_train = df_train.values[:, 0]\n",
    "X_test = skpca.fit_transform(sc.transform(df_test.values[:, 2:]))\n",
    "y_test = df_test.values[:, 0]\n",
    "\n",
    "#print(df_test)"
   ]
  },
  {
   "cell_type": "code",
   "execution_count": 14,
   "id": "9e819390-dee1-48bd-822a-016644d1f875",
   "metadata": {},
   "outputs": [
    {
     "name": "stdout",
     "output_type": "stream",
     "text": [
      "              precision    recall  f1-score   support\n",
      "\n",
      " Acetaldehyd       0.00      0.00      0.00         5\n",
      "     Acetone       0.40      0.62      0.48        13\n",
      "     Ammonia       0.11      0.14      0.12        22\n",
      "     Ethanol       0.64      0.56      0.60        16\n",
      "    Ethylene       0.00      0.00      0.00        20\n",
      "     Toluene       0.36      0.31      0.33        13\n",
      "\n",
      "    accuracy                           0.27        89\n",
      "   macro avg       0.25      0.27      0.26        89\n",
      "weighted avg       0.25      0.27      0.26        89\n",
      "\n"
     ]
    }
   ],
   "source": [
    "model = pipeline.fit(X_train, Y_train)\n",
    "y_pred_simple = model.predict(X_test)\n",
    "\n",
    "print(classification_report(y_test, y_pred_simple, zero_division=0))"
   ]
  },
  {
   "cell_type": "code",
   "execution_count": 20,
   "id": "d1baf9e5-82b2-4d5a-9e9a-24400431b5ba",
   "metadata": {},
   "outputs": [
    {
     "name": "stdout",
     "output_type": "stream",
     "text": [
      "Fitting 5 folds for each of 20 candidates, totalling 100 fits\n",
      "grid classification_report: \n",
      "               precision    recall  f1-score   support\n",
      "\n",
      " Acetaldehyd       0.00      0.00      0.00         5\n",
      "     Acetone       0.40      0.62      0.48        13\n",
      "     Ammonia       0.11      0.14      0.12        22\n",
      "     Ethanol       0.64      0.56      0.60        16\n",
      "    Ethylene       0.00      0.00      0.00        20\n",
      "     Toluene       0.36      0.31      0.33        13\n",
      "\n",
      "    accuracy                           0.27        89\n",
      "   macro avg       0.25      0.27      0.26        89\n",
      "weighted avg       0.25      0.27      0.26        89\n",
      "\n"
     ]
    }
   ],
   "source": [
    "# Оптимизация гиперпараметров\n",
    "\n",
    "parameters = {\n",
    "    'scaler__with_mean': [True, False],\n",
    "    'clf__C': np.linspace(0.01, 1, 10),\n",
    "    'clf__penalty': ['l2'], #  было 'clf__penalty': ['l2', None] - надоели предупреждения \"Setting penalty=None will ignore the C and l1_ratio parameters\" \n",
    "    'clf__random_state': [2023],\n",
    "}\n",
    "\n",
    "grid_search = GridSearchCV(\n",
    "    estimator=pipeline,\n",
    "    param_grid=parameters,\n",
    "    n_jobs=2,\n",
    "    verbose=1,\n",
    ")\n",
    "\n",
    "\n",
    "grid_search.fit(X_train, Y_train)\n",
    "\n",
    "\n",
    "best_parameters = grid_search.best_estimator_.get_params()\n",
    "\n",
    "y_pred_optimized = grid_search.best_estimator_.predict(X_test)\n",
    "print('grid classification_report: \\n', classification_report(y_test, y_pred_optimized, zero_division=0))"
   ]
  },
  {
   "cell_type": "code",
   "execution_count": 21,
   "id": "c76f611c-348b-4da1-86d5-067e65e35ae3",
   "metadata": {},
   "outputs": [
    {
     "name": "stdout",
     "output_type": "stream",
     "text": [
      "Fitting 5 folds for each of 10 candidates, totalling 50 fits\n",
      "random classification_report: \n",
      "               precision    recall  f1-score   support\n",
      "\n",
      " Acetaldehyd       0.00      0.00      0.00         5\n",
      "     Acetone       0.40      0.62      0.48        13\n",
      "     Ammonia       0.11      0.14      0.12        22\n",
      "     Ethanol       0.64      0.56      0.60        16\n",
      "    Ethylene       0.00      0.00      0.00        20\n",
      "     Toluene       0.36      0.31      0.33        13\n",
      "\n",
      "    accuracy                           0.27        89\n",
      "   macro avg       0.25      0.27      0.26        89\n",
      "weighted avg       0.25      0.27      0.26        89\n",
      "\n"
     ]
    }
   ],
   "source": [
    "# Randomized Search\n",
    "\n",
    "random_search = RandomizedSearchCV(\n",
    "    estimator=pipeline,\n",
    "    param_distributions=parameters,\n",
    "    n_iter=10,\n",
    "    random_state=2023,\n",
    "    n_jobs=4,\n",
    "    verbose=1,\n",
    ")\n",
    "\n",
    "random_search.fit(X_train, Y_train)\n",
    "\n",
    "best_parameters = random_search.best_estimator_.get_params()\n",
    "\n",
    "y_pred_optimized = random_search.best_estimator_.predict(X_test)\n",
    "report = classification_report(y_test, y_pred_optimized, zero_division=0) # \n",
    "print('random classification_report: \\n', report)\n"
   ]
  }
 ],
 "metadata": {
  "kernelspec": {
   "display_name": "Python 3 (ipykernel)",
   "language": "python",
   "name": "python3"
  },
  "language_info": {
   "codemirror_mode": {
    "name": "ipython",
    "version": 3
   },
   "file_extension": ".py",
   "mimetype": "text/x-python",
   "name": "python",
   "nbconvert_exporter": "python",
   "pygments_lexer": "ipython3",
   "version": "3.10.4"
  }
 },
 "nbformat": 4,
 "nbformat_minor": 5
}
